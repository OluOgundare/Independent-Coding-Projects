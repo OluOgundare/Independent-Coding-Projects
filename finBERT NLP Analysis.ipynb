{
 "cells": [
  {
   "cell_type": "markdown",
   "id": "b346beaa",
   "metadata": {},
   "source": [
    "### Packages"
   ]
  },
  {
   "cell_type": "code",
   "execution_count": 11,
   "id": "5eefbe4d",
   "metadata": {
    "scrolled": true
   },
   "outputs": [
   ],
   "source": [
    "import requests\n",
    "from bs4 import BeautifulSoup\n",
    "import csv\n",
    "!pip install ipython\n",
    "!pip install nbconvert"
   ]
  },
  {
   "cell_type": "markdown",
   "id": "2626fad8",
   "metadata": {},
   "source": [
    "### Out Look"
   ]
  },
  {
   "cell_type": "code",
   "execution_count": 13,
   "id": "cedf780d-5951-4deb-81c5-03b244313f2e",
   "metadata": {},
   "outputs": [],
   "source": [
    "def Get_Words(input):\n",
    "    noise = [\"\\xa0\\r\\n\\xa0\", \"\\xa0\", '\\'', \"\\n\", \"           \",\" ' \", '\\\"',\"\\t\\t\\t\\t\", \"By Janet Henry, Global Chief Economist, HSBCVideoGlobal Economics QuarterlyGlobal growth was more resilient than many feared through the third quarter of 2022. \", \"JHVEPhoto/iStock Editorial via Getty ImagesIn one of the most difficult macroeconomic environments in a decade, Capital One Financial Corporation () does not appear to be a good stock to buy. \", \"\\t\\t\\t\", \"Download the Schwab app from iTunesCross currents continue to rock the economic boat, even though we believe a brighter year is on the horizon.\", \"|  |  |  |  |  |  |  |  | ||\", \"Watch CBS News By Aimee Picchi         / MoneyWatch        Investors , with the S&P 500 tumbling 19% as the Federal Reserve cranked interest rates higher to smother inflation. \", \"Please .Corporations & InstitutionsInstitutional InvestorsAdvisors & Advisory FirmsIndividuals & Portfolio AdvisorsAs a global leader, we deliver strategic advice and solutions, including capital raising, risk management, and trade finance services to corporations, institutions and governments.Serving the worlds largest corporate clients and institutional investors, we support the entire investment cycle with market-leading research, analytics, execution and investor services.We are a leader in investment management, dedicating to creating a strategic advantage for institutions by connecting clients with J.P.Morgan investment professionals globally. Our financial advisors create solutions addressing strategic investment approaches, professional portfolio management and a broad range of wealth management services. InsightsResearchInsights to empower better decisions. Leverages cutting-edge technologies and innovative tools to bring clients industry-leading analysis and investment advice. NewsroomMedia CenterInvestor RelationsThe latest news and announcements. For company information and brand assets for editorial use.: The latest news and announcements.: About usCorporate ResponsibilityTechnology at our FirmEvents & ConferencesIn a fast-moving and increasingly complex global economy, our success depends on how faithfully we adhere to our core principles: delivering exceptional client service; acting with integrity and responsibility; and supporting the growth of our employees. J.P.Morgan is a global leader in financial services, offering solutions to the worlds most important corporations, governments and institutions in more than 100 countries. \", \"Quotes displayed in real-time or delayed by at least 15 minutes. Market data provided by. Powered and implemented by. . Mutual Fund and ETF data provided by.          This material may not be published, broadcast, rewritten, or redistributed. ©2023 FOX News Network, LLC. All rights reserved.  - \"]\n",
    "    output = \"\"\n",
    "    text = input.find_all(text = True)\n",
    "    for x in text:\n",
    "        if x.parent.name == \"p\":\n",
    "            output += \"{}\".format(x)\n",
    "    output = str(output).strip()\n",
    "    for x in noise:\n",
    "        output = output.replace(x, \"\")\n",
    "    return output\n",
    "\n",
    "def Get_Text(site):\n",
    "    bank_page = requests.get(site)\n",
    "    page_info = BeautifulSoup(bank_page.content, \"html.parser\")\n",
    "    return Get_Words(page_info)"
   ]
  },
  {
   "cell_type": "markdown",
   "id": "35f76381",
   "metadata": {},
   "source": [
    "### Aggregrate Sentiment"
   ]
  },
  {
   "cell_type": "code",
   "execution_count": 14,
   "id": "475ad960",
   "metadata": {},
   "outputs": [],
   "source": [
    "def aggragated_sentiments(array):\n",
    "    scores = 0\n",
    "    total_negative = 0\n",
    "    total_positive = 0\n",
    "    total_neutral = 0\n",
    "    for x in range(0,len(array)):\n",
    "        if (array[x] == \"Negative\"):\n",
    "            total_negative += 1\n",
    "        if (array[x] == \"Positive\"):\n",
    "            total_positive += 1\n",
    "        if (array[x] == \"Neutral\"):\n",
    "            total_neutral += 1\n",
    "        if type(array[x]) == float:\n",
    "            scores = scores + array[x]\n",
    "    score = scores/len(array)\n",
    "    Data = {\n",
    "        \"Average Score\": score,\n",
    "        \"Total Negative's\" : total_negative, \n",
    "        \"Total Positive's\" : total_positive,\n",
    "        \"Total Neutral's\" : total_neutral\n",
    "    }\n",
    "    return Data"
   ]
  },
  {
   "cell_type": "code",
   "execution_count": 15,
   "id": "42ec63bc",
   "metadata": {},
   "outputs": [],
   "source": [
    "def total_sentiment(array):\n",
    "    scores = 0\n",
    "    total_negative = 0\n",
    "    total_positive = 0\n",
    "    total_neutral = 0\n",
    "    for x in array:\n",
    "        scores += x[\"Average Score\"]\n",
    "        total_negative += x[\"Total Negative's\"]\n",
    "        total_positive += x[\"Total Positive's\"]\n",
    "        total_neutral += x[\"Total Neutral's\"]\n",
    "    scores = scores/(len(array))\n",
    "    sentiment = \"\"\n",
    "    if scores < 0.5:\n",
    "        sentiment = \"Negative Aggregrate Outlook\"\n",
    "    if scores >= 0.5 and scores <= 0.6:\n",
    "        sentiment = \"Neutral Aggregrate Outlook\"\n",
    "    if scores > 0.6:\n",
    "        sentiment = \"Positive Aggregrate Outlook\"\n",
    "    Total_Data = {\n",
    "    \n",
    "    \"Total Average Score\": scores,\n",
    "    \"Total Negative's\" : total_negative, \n",
    "    \"Total Positive's\" : total_positive,\n",
    "    \"Total Neutral's\" : total_neutral,\n",
    "    \"Average Sentiment\" : sentiment, \n",
    "    \"Banks Considered\": [\"Goldman Sachs\", \"J.P. Morgan\", \"Bank of America Corporation\" , \"Citigroup\", \"Wells Fargo\", \"Morgan Stanley\", \n",
    "        \"Charles Schwab\", \"US Bank Corporation\", \"TD Bank\", \"Capitol One Bank\", \"State Street Corp\", \"HSBC Bank USA\"]\n",
    "    }\n",
    "    \n",
    "    return Total_Data"
   ]
  },
  {
   "cell_type": "markdown",
   "id": "df8fcb25",
   "metadata": {},
   "source": [
    "### finBERT NLP Model"
   ]
  },
  {
   "cell_type": "code",
   "execution_count": 16,
   "id": "b388b017",
   "metadata": {
    "scrolled": true
   },
   "outputs": [
   ],
   "source": [
    "get_ipython().system('pip install transformers')\n",
    "\n",
    "from transformers import BertTokenizer, BertForSequenceClassification\n",
    "from transformers import pipeline\n",
    "import torch\n",
    "\n",
    "finbert = BertForSequenceClassification.from_pretrained(\"yiyanghkust/finbert-tone\", num_labels = 3)\n",
    "tokenizer = BertTokenizer.from_pretrained(\"yiyanghkust/finbert-tone\")\n",
    "\n",
    "NLP = pipeline(\"sentiment-analysis\", model=finbert, tokenizer = tokenizer)\n",
    "\n",
    "def sentiment_analysis(text):\n",
    "    NLP = pipeline(\"sentiment-analysis\", model=finbert, tokenizer = tokenizer)\n",
    "    results = NLP(text)\n",
    "    Label = results[0][\"label\"]\n",
    "    Score = results[0][\"score\"]\n",
    "    return [Label, Score]"
   ]
  },
  {
   "cell_type": "markdown",
   "id": "4d68c231",
   "metadata": {},
   "source": [
    "### Sizeable Data"
   ]
  },
  {
   "cell_type": "code",
   "execution_count": 17,
   "id": "4cc97c4b",
   "metadata": {},
   "outputs": [],
   "source": [
    "def get_sizeable_sentences(text):\n",
    "    sentences = []\n",
    "    current_sentence = \"\"\n",
    "    letter = \"\"\n",
    "    x = 0\n",
    "    for x in range(0, len(text) - 5):\n",
    "        current_sentence += text[x]\n",
    "        if (text[x] == \".\" and not(text[x-1] == \"S\")  and (text[x+1] == \" \"or text[x+1].isupper())):\n",
    "            sentences.append(current_sentence)\n",
    "            current_sentence = \"\"\n",
    "    return sentences"
   ]
  },
  {
   "cell_type": "markdown",
   "id": "cdf6060f",
   "metadata": {},
   "source": [
    "# Running Code"
   ]
  },
  {
   "cell_type": "code",
   "execution_count": 18,
   "id": "77516aa1",
   "metadata": {},
   "outputs": [],
   "source": [
    "##Creating an array of all the sentences for each specific article\n",
    "GS_sentences = get_sizeable_sentences(Get_Text(\"https://www.goldmansachs.com/insights/pages/as-bank-stress-grows-are-markets-signaling-a-us-recession.html\"))\n",
    "JPM_sentences = get_sizeable_sentences(Get_Text(\"https://www.jpmorgan.com/insights/research/market-outlook\"))\n",
    "BOA_sentences = get_sizeable_sentences(Get_Text(\"https://www.foxbusiness.com/economy/bank-america-still-forecasting-2023-recession-fed-action-not-enough-exec-warns\"))\n",
    "WF_sentences = get_sizeable_sentences(Get_Text(\"https://newsroom.wf.com/English/news-releases/news-release-details/2022/Wells-Fargo-Investment-Institute-2023-Outlook-A-Year-of-Recession-Recovery-and-Rebound/default.aspx\"))\n",
    "CITI_sentences = get_sizeable_sentences(Get_Text(\"https://www.reuters.com/article/global-economy-citigroup/citi-sees-lower-probability-of-global-recession-in-2023-idUKL4N3433F\"))\n",
    "MS_sentences = get_sizeable_sentences(Get_Text(\"https://www.cbsnews.com/news/morgan-stanley-stock-outlook-20-percent-drop/\"))\n",
    "USBC_sentences = get_sizeable_sentences(Get_Text(\"https://www.usbank.com/investing/financial-perspectives/market-news/economic-recovery-status.html#:~:text=The%20Federal%20Reserve%20continues%20to,by%20a%20strong%20job%20market.\"))\n",
    "TD_sentences = get_sizeable_sentences(Get_Text(\"https://seekingalpha.com/article/4570388-not-in-recession-yet-but-growth-likely-to-slow\"))\n",
    "COB_sentences = get_sizeable_sentences(Get_Text(\"https://seekingalpha.com/article/4572920-capital-one-financial-shares-struggle-2023?mailingid=30374364&messageid=2800&serial=30374364.2229&utm_campaign=rta-stock-article&utm_medium=email&utm_source=seeking_alpha&utm_term=30374364.2229\"))\n",
    "SSC_sentences = get_sizeable_sentences(Get_Text(\"https://investors.statestreet.com/investor-news-events/press-releases/news-details/2022/State-Street-Global-Advisors-Survey-Inflation-Causing-Stress-and-Anxiety-Nearly-Half-of-Investors-Believe-It-Has-Not-Peaked-08-09-2022/default.aspx\"))\n",
    "HSBC_sentences = get_sizeable_sentences(Get_Text(\"https://www.gbm.hsbc.com/en-gb/feed/global-research/stalling-or-crawling\"))\n",
    "CHSW_sentences = get_sizeable_sentences(Get_Text(\"https://www.schwab.com/learn/story/outlook-overview#:~:text=In%20fact%2C%20the%20Fed%20is,increase%20from%20the%20current%20rate.\"))"
   ]
  },
  {
   "cell_type": "code",
   "execution_count": 19,
   "id": "cafe4785",
   "metadata": {},
   "outputs": [],
   "source": [
    "##Creates a sentiment analysis of each individual sentence and stores it in an array for each unique article\n",
    "GS_sentiment = []\n",
    "for x in GS_sentences:\n",
    "    GS_sentiment += sentiment_analysis(x)\n",
    "\n",
    "JPM_sentiment = []\n",
    "for x in JPM_sentences:\n",
    "    JPM_sentiment += sentiment_analysis(x)\n",
    "\n",
    "BOA_sentiment = []\n",
    "for x in BOA_sentences:\n",
    "    BOA_sentiment += sentiment_analysis(x)\n",
    "\n",
    "WF_sentiment = []\n",
    "for x in WF_sentences:\n",
    "    WF_sentiment += sentiment_analysis(x)\n",
    "    \n",
    "CITI_sentiment = []\n",
    "for x in CITI_sentences:\n",
    "    CITI_sentiment += sentiment_analysis(x)\n",
    "    \n",
    "MS_sentiment = []\n",
    "for x in MS_sentences:\n",
    "    MS_sentiment += sentiment_analysis(x)\n",
    "    \n",
    "USBC_sentiment = []\n",
    "for x in USBC_sentences:\n",
    "    USBC_sentiment += sentiment_analysis(x)\n",
    "    \n",
    "TD_sentiment = []\n",
    "for x in TD_sentences:\n",
    "    TD_sentiment += sentiment_analysis(x)\n",
    "    \n",
    "COB_sentiment = []\n",
    "for x in COB_sentences:\n",
    "    COB_sentiment += sentiment_analysis(x)\n",
    "    \n",
    "SSC_sentiment = []\n",
    "for x in SSC_sentences:\n",
    "    SSC_sentiment += sentiment_analysis(x)\n",
    "    \n",
    "HSBC_sentiment = []\n",
    "for x in HSBC_sentences:\n",
    "    HSBC_sentiment += sentiment_analysis(x)\n",
    "\n",
    "CHSW_sentiment = []\n",
    "for x in CHSW_sentences:\n",
    "    CHSW_sentiment += sentiment_analysis(x)"
   ]
  },
  {
   "cell_type": "code",
   "execution_count": 20,
   "id": "ad6d165a",
   "metadata": {},
   "outputs": [],
   "source": [
    "##Creates a dictionary for the sentiment analysis of each individual article based on individual sentences\n",
    "GS_sentiment_data = aggragated_sentiments(GS_sentiment)\n",
    "JPM_sentiment_data = aggragated_sentiments(JPM_sentiment)\n",
    "BOA_sentiment_data = aggragated_sentiments(BOA_sentiment)\n",
    "WF_sentiment_data = aggragated_sentiments(WF_sentiment)\n",
    "CITI_sentiment_data = aggragated_sentiments(CITI_sentiment)\n",
    "USBC_sentiment_data = aggragated_sentiments(USBC_sentiment)\n",
    "TD_sentiment_data = aggragated_sentiments(TD_sentiment)\n",
    "COB_sentiment_data = aggragated_sentiments(COB_sentiment)\n",
    "SSC_sentiment_data = aggragated_sentiments(SSC_sentiment)\n",
    "HSBC_sentiment_data = aggragated_sentiments(HSBC_sentiment)\n",
    "CHSW_sentiment_data = aggragated_sentiments(CHSW_sentiment)"
   ]
  },
  {
   "cell_type": "code",
   "execution_count": 2,
   "id": "1181023f",
   "metadata": {
    "collapsed": true
   },
   "outputs": [
    {
     "ename": "NameError",
     "evalue": "name 'GS_sentiment_data' is not defined",
     "output_type": "error",
     "traceback": [
      "\u001b[1;31m---------------------------------------------------------------------------\u001b[0m",
      "\u001b[1;31mNameError\u001b[0m                                 Traceback (most recent call last)",
      "\u001b[1;32m~\\AppData\\Local\\Temp\\ipykernel_8868\\3352602896.py\u001b[0m in \u001b[0;36m<module>\u001b[1;34m\u001b[0m\n\u001b[0;32m      1\u001b[0m \u001b[1;31m#Creates the total array used to analyze overall market outlook\u001b[0m\u001b[1;33m\u001b[0m\u001b[1;33m\u001b[0m\u001b[0m\n\u001b[1;32m----> 2\u001b[1;33m Total_Array = [GS_sentiment_data, JPM_sentiment_data, BOA_sentiment_data, WF_sentiment_data, \n\u001b[0m\u001b[0;32m      3\u001b[0m                \u001b[0mCITI_sentiment_data\u001b[0m\u001b[1;33m,\u001b[0m \u001b[0mUSBC_sentiment_data\u001b[0m\u001b[1;33m,\u001b[0m \u001b[0mTD_sentiment_data\u001b[0m\u001b[1;33m,\u001b[0m \u001b[0mCOB_sentiment_data\u001b[0m\u001b[1;33m,\u001b[0m\u001b[1;33m\u001b[0m\u001b[1;33m\u001b[0m\u001b[0m\n\u001b[0;32m      4\u001b[0m                SSC_sentiment_data, HSBC_sentiment_data, CHSW_sentiment_data]\n\u001b[0;32m      5\u001b[0m \u001b[1;33m\u001b[0m\u001b[0m\n",
      "\u001b[1;31mNameError\u001b[0m: name 'GS_sentiment_data' is not defined"
     ]
    }
   ],
   "source": [
    "#Creates the total array used to analyze overall market outlook\n",
    "Total_Array = [GS_sentiment_data, JPM_sentiment_data, BOA_sentiment_data, WF_sentiment_data, \n",
    "               CITI_sentiment_data, USBC_sentiment_data, TD_sentiment_data, COB_sentiment_data, \n",
    "               SSC_sentiment_data, HSBC_sentiment_data, CHSW_sentiment_data]\n",
    "\n",
    "#Prints out the total sentiment analyze using every individual article\n",
    "total_sentiment(Total_Array)"
   ]
  },
  {
   "cell_type": "code",
   "execution_count": null,
   "id": "2667f84d",
   "metadata": {},
   "outputs": [],
   "source": []
  }
 ],
 "metadata": {
  "kernelspec": {
   "display_name": "Python 3 (ipykernel)",
   "language": "python",
   "name": "python3"
  },
  "language_info": {
   "codemirror_mode": {
    "name": "ipython",
    "version": 3
   },
   "file_extension": ".py",
   "mimetype": "text/x-python",
   "name": "python",
   "nbconvert_exporter": "python",
   "pygments_lexer": "ipython3",
   "version": "3.9.13"
  }
 },
 "nbformat": 4,
 "nbformat_minor": 5
}
